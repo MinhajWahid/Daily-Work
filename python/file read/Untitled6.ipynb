{
 "cells": [
  {
   "cell_type": "code",
   "execution_count": 1,
   "metadata": {},
   "outputs": [
    {
     "name": "stdout",
     "output_type": "stream",
     "text": [
      "1) ready or not\n"
     ]
    }
   ],
   "source": [
    "f = open('a.txt')\n",
    "text = f.read()\n",
    "print(text)"
   ]
  },
  {
   "cell_type": "code",
   "execution_count": 2,
   "metadata": {},
   "outputs": [
    {
     "name": "stdout",
     "output_type": "stream",
     "text": [
      "1) re\n"
     ]
    }
   ],
   "source": [
    "#Write the following code in a new cell to read the first 5 characters:\n",
    "with open('a.txt') as f:\n",
    "    print(f.read(5))"
   ]
  },
  {
   "cell_type": "code",
   "execution_count": 3,
   "metadata": {},
   "outputs": [
    {
     "name": "stdout",
     "output_type": "stream",
     "text": [
      "1) ready or not\n"
     ]
    }
   ],
   "source": [
    "with open('a.txt') as f:\n",
    "    print(f.readline())\n",
    "#You should get the following output of the very first line in the text file:"
   ]
  },
  {
   "cell_type": "code",
   "execution_count": 6,
   "metadata": {},
   "outputs": [
    {
     "name": "stdout",
     "output_type": "stream",
     "text": [
      "20220101_04:06:28 -  0\n",
      "20220101_04:06:29 -  1\n",
      "20220101_04:06:30 -  2\n",
      "20220101_04:06:31 -  3\n",
      "20220101_04:06:32 -  4\n",
      "20220101_04:06:33 -  5\n",
      "20220101_04:06:34 -  6\n",
      "20220101_04:06:35 -  7\n",
      "20220101_04:06:36 -  8\n",
      "20220101_04:06:37 -  9\n"
     ]
    }
   ],
   "source": [
    "f = open('a.txt','w')\n",
    "from datetime import datetime\n",
    "import time\n",
    "for i in range(0,10):\n",
    "    print(datetime.now().strftime('%Y%m%d_%H:%M:%S - '),i)\n",
    "    f.write(datetime.now().strftime('%Y%m%d_%H:%M:%S - '))\n",
    "    time.sleep(1)\n",
    "    f.write(str(i))\n",
    "    f.write(\"\\n\")\n",
    "f.close()\n",
    "\n"
   ]
  },
  {
   "cell_type": "code",
   "execution_count": 8,
   "metadata": {},
   "outputs": [
    {
     "name": "stdout",
     "output_type": "stream",
     "text": [
      "3\n",
      "4\n",
      "5\n",
      "6\n",
      "7\n",
      "8\n",
      "9\n",
      "10\n",
      "11\n",
      "12\n"
     ]
    }
   ],
   "source": [
    "f = open('a.txt','w')\n",
    "for i in range(1,11):\n",
    "    i += 2\n",
    "    print(i)\n",
    "    f.write(str(i))\n",
    "    f.write(\"\\n\")\n",
    "f.close()"
   ]
  },
  {
   "cell_type": "code",
   "execution_count": null,
   "metadata": {},
   "outputs": [],
   "source": []
  }
 ],
 "metadata": {
  "kernelspec": {
   "display_name": "Python 3",
   "language": "python",
   "name": "python3"
  },
  "language_info": {
   "codemirror_mode": {
    "name": "ipython",
    "version": 3
   },
   "file_extension": ".py",
   "mimetype": "text/x-python",
   "name": "python",
   "nbconvert_exporter": "python",
   "pygments_lexer": "ipython3",
   "version": "3.8.5"
  }
 },
 "nbformat": 4,
 "nbformat_minor": 4
}
